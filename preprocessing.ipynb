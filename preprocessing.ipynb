{
 "cells": [
  {
   "cell_type": "code",
   "execution_count": 3,
   "metadata": {},
   "outputs": [],
   "source": [
    "import pandas as pd\n",
    "import numpy as np\n",
    "import datetime\n",
    "import ciso8601"
   ]
  },
  {
   "cell_type": "code",
   "execution_count": 4,
   "metadata": {
    "scrolled": true
   },
   "outputs": [],
   "source": [
    "path_movie = r'.\\data\\original\\MovieRatings.txt'\n",
    "path_music = r'.\\data\\original\\MusicRatings.txt'"
   ]
  },
  {
   "cell_type": "code",
   "execution_count": 5,
   "metadata": {},
   "outputs": [
    {
     "name": "stdout",
     "output_type": "stream",
     "text": [
      "         user_id  item_id  rating     type                        timestr\n",
      "0        2253006  2028669      -1     wish  2011-10-18T18:01:47.000+08:00\n",
      "1        2253006  6395463       5  watched  2011-10-10T12:54:46.000+08:00\n",
      "2        2253006  1291565      -1     wish  2011-09-27T16:06:21.000+08:00\n",
      "3        2253006  6799133      -1     wish  2011-09-25T00:40:00.000+08:00\n",
      "4        2253006  6714078      -1     wish  2011-09-06T16:31:37.000+08:00\n",
      "...          ...      ...     ...      ...                            ...\n",
      "5199468  2291566  2054932       5  watched  2009-05-27T00:38:14.000+08:00\n",
      "5199469  2291566  1945780       5  watched  2009-05-27T00:38:03.000+08:00\n",
      "5199470  2291566  2081376       4  watched  2009-05-27T00:37:37.000+08:00\n",
      "5199471  2291566  3007826       5  watched  2009-05-27T00:37:25.000+08:00\n",
      "5199472  2291566  2297265       5  watched  2009-05-27T00:37:04.000+08:00\n",
      "\n",
      "[5199473 rows x 5 columns]\n",
      "         user_id  item_id  rating      type                        timestr\n",
      "0        2253006  5359415       4  listened  2011-11-02T13:25:04.000+08:00\n",
      "1        2253006  6758073       4  listened  2011-11-01T14:15:14.000+08:00\n",
      "2        2253006  6791122       5  listened  2011-11-01T13:43:54.000+08:00\n",
      "3        2253006  6783658       3  listened  2011-11-01T13:32:11.000+08:00\n",
      "4        2253006  6151347       4  listened  2011-10-31T13:51:10.000+08:00\n",
      "...          ...      ...     ...       ...                            ...\n",
      "2528921  2291566  1427677       5  listened  2009-05-27T00:11:29.000+08:00\n",
      "2528922  2291566  1916504       5  listened  2009-05-27T00:11:25.000+08:00\n",
      "2528923  2291566  1416961       5  listened  2009-05-27T00:11:12.000+08:00\n",
      "2528924  2291566  1394800       5  listened  2009-05-27T00:11:07.000+08:00\n",
      "2528925  2291566  1394778       5  listened  2009-05-27T00:11:00.000+08:00\n",
      "\n",
      "[2528926 rows x 5 columns]\n"
     ]
    }
   ],
   "source": [
    "file_movie = pd.read_csv(path_movie, encoding = 'ISO-8859-1', sep='\\t', names=['user_id','item_id','rating','type','timestr','dummy'])\n",
    "file_music = pd.read_csv(path_music, encoding = 'ISO-8859-1', sep='\\t', names=['user_id','item_id','rating','type','timestr','dummy'])\n",
    "file_movie.drop(['dummy'], axis=1, inplace=True)\n",
    "file_music.drop(['dummy'], axis=1, inplace=True)\n",
    "print(file_movie)\n",
    "print(file_music)"
   ]
  },
  {
   "cell_type": "code",
   "execution_count": 6,
   "metadata": {},
   "outputs": [
    {
     "name": "stdout",
     "output_type": "stream",
     "text": [
      "         user_id  item_id  rating     type                        timestr\n",
      "0        2253006  2028669      -1     wish  2011-10-18T18:01:47.000+08:00\n",
      "1        2253006  6395463       5  watched  2011-10-10T12:54:46.000+08:00\n",
      "2        2253006  1291565      -1     wish  2011-09-27T16:06:21.000+08:00\n",
      "3        2253006  6799133      -1     wish  2011-09-25T00:40:00.000+08:00\n",
      "4        2253006  6714078      -1     wish  2011-09-06T16:31:37.000+08:00\n",
      "...          ...      ...     ...      ...                            ...\n",
      "5199468  2291566  2054932       5  watched  2009-05-27T00:38:14.000+08:00\n",
      "5199469  2291566  1945780       5  watched  2009-05-27T00:38:03.000+08:00\n",
      "5199470  2291566  2081376       4  watched  2009-05-27T00:37:37.000+08:00\n",
      "5199471  2291566  3007826       5  watched  2009-05-27T00:37:25.000+08:00\n",
      "5199472  2291566  2297265       5  watched  2009-05-27T00:37:04.000+08:00\n",
      "\n",
      "[5199473 rows x 5 columns]\n",
      "         user_id  item_id  rating     type     timestamp\n",
      "0        2253006  2028669      -1     wish  1.318932e+09\n",
      "1        2253006  6395463       5  watched  1.318222e+09\n",
      "2        2253006  1291565      -1     wish  1.317111e+09\n",
      "3        2253006  6799133      -1     wish  1.316882e+09\n",
      "4        2253006  6714078      -1     wish  1.315298e+09\n",
      "...          ...      ...     ...      ...           ...\n",
      "5199468  2291566  2054932       5  watched  1.243356e+09\n",
      "5199469  2291566  1945780       5  watched  1.243356e+09\n",
      "5199470  2291566  2081376       4  watched  1.243356e+09\n",
      "5199471  2291566  3007826       5  watched  1.243356e+09\n",
      "5199472  2291566  2297265       5  watched  1.243356e+09\n",
      "\n",
      "[5199473 rows x 5 columns]\n"
     ]
    }
   ],
   "source": [
    "#def timestr_to_timestamp(df):\n",
    "#    df['timestamp'] = df.TimeStr.apply(lambda x: ciso8601.parse_datetime(x).timestamp())\n",
    "#    return df\n",
    "\n",
    "print(file_movie)\n",
    "file_movie['timestamp'] = file_movie.timestr.apply(lambda x: ciso8601.parse_datetime(x).timestamp())\n",
    "del(file_movie['timestr'])\n",
    "file_music['timestamp'] = file_music.timestr.apply(lambda x: ciso8601.parse_datetime(x).timestamp())\n",
    "del(file_music['timestr'])\n",
    "print(file_movie)"
   ]
  },
  {
   "cell_type": "code",
   "execution_count": 7,
   "metadata": {},
   "outputs": [
    {
     "data": {
      "text/html": [
       "<div>\n",
       "<style scoped>\n",
       "    .dataframe tbody tr th:only-of-type {\n",
       "        vertical-align: middle;\n",
       "    }\n",
       "\n",
       "    .dataframe tbody tr th {\n",
       "        vertical-align: top;\n",
       "    }\n",
       "\n",
       "    .dataframe thead th {\n",
       "        text-align: right;\n",
       "    }\n",
       "</style>\n",
       "<table border=\"1\" class=\"dataframe\">\n",
       "  <thead>\n",
       "    <tr style=\"text-align: right;\">\n",
       "      <th></th>\n",
       "      <th>user_id</th>\n",
       "      <th>item_id</th>\n",
       "      <th>rating</th>\n",
       "      <th>type</th>\n",
       "      <th>timestamp</th>\n",
       "      <th>item_type</th>\n",
       "    </tr>\n",
       "  </thead>\n",
       "  <tbody>\n",
       "    <tr>\n",
       "      <th>0</th>\n",
       "      <td>2253006</td>\n",
       "      <td>2028669</td>\n",
       "      <td>-1</td>\n",
       "      <td>wish</td>\n",
       "      <td>1.318932e+09</td>\n",
       "      <td>0</td>\n",
       "    </tr>\n",
       "    <tr>\n",
       "      <th>1</th>\n",
       "      <td>2253006</td>\n",
       "      <td>6395463</td>\n",
       "      <td>5</td>\n",
       "      <td>watched</td>\n",
       "      <td>1.318222e+09</td>\n",
       "      <td>0</td>\n",
       "    </tr>\n",
       "    <tr>\n",
       "      <th>2</th>\n",
       "      <td>2253006</td>\n",
       "      <td>1291565</td>\n",
       "      <td>-1</td>\n",
       "      <td>wish</td>\n",
       "      <td>1.317111e+09</td>\n",
       "      <td>0</td>\n",
       "    </tr>\n",
       "    <tr>\n",
       "      <th>3</th>\n",
       "      <td>2253006</td>\n",
       "      <td>6799133</td>\n",
       "      <td>-1</td>\n",
       "      <td>wish</td>\n",
       "      <td>1.316882e+09</td>\n",
       "      <td>0</td>\n",
       "    </tr>\n",
       "    <tr>\n",
       "      <th>4</th>\n",
       "      <td>2253006</td>\n",
       "      <td>6714078</td>\n",
       "      <td>-1</td>\n",
       "      <td>wish</td>\n",
       "      <td>1.315298e+09</td>\n",
       "      <td>0</td>\n",
       "    </tr>\n",
       "    <tr>\n",
       "      <th>5</th>\n",
       "      <td>2253006</td>\n",
       "      <td>1306303</td>\n",
       "      <td>-1</td>\n",
       "      <td>wish</td>\n",
       "      <td>1.315192e+09</td>\n",
       "      <td>0</td>\n",
       "    </tr>\n",
       "    <tr>\n",
       "      <th>6</th>\n",
       "      <td>2253006</td>\n",
       "      <td>5387041</td>\n",
       "      <td>-1</td>\n",
       "      <td>wish</td>\n",
       "      <td>1.314786e+09</td>\n",
       "      <td>0</td>\n",
       "    </tr>\n",
       "    <tr>\n",
       "      <th>7</th>\n",
       "      <td>2253006</td>\n",
       "      <td>3011235</td>\n",
       "      <td>4</td>\n",
       "      <td>watched</td>\n",
       "      <td>1.313814e+09</td>\n",
       "      <td>0</td>\n",
       "    </tr>\n",
       "    <tr>\n",
       "      <th>8</th>\n",
       "      <td>2253006</td>\n",
       "      <td>3443389</td>\n",
       "      <td>5</td>\n",
       "      <td>watched</td>\n",
       "      <td>1.313458e+09</td>\n",
       "      <td>0</td>\n",
       "    </tr>\n",
       "    <tr>\n",
       "      <th>9</th>\n",
       "      <td>2253006</td>\n",
       "      <td>1292281</td>\n",
       "      <td>-1</td>\n",
       "      <td>wish</td>\n",
       "      <td>1.313389e+09</td>\n",
       "      <td>0</td>\n",
       "    </tr>\n",
       "  </tbody>\n",
       "</table>\n",
       "</div>"
      ],
      "text/plain": [
       "   user_id  item_id  rating     type     timestamp  item_type\n",
       "0  2253006  2028669      -1     wish  1.318932e+09          0\n",
       "1  2253006  6395463       5  watched  1.318222e+09          0\n",
       "2  2253006  1291565      -1     wish  1.317111e+09          0\n",
       "3  2253006  6799133      -1     wish  1.316882e+09          0\n",
       "4  2253006  6714078      -1     wish  1.315298e+09          0\n",
       "5  2253006  1306303      -1     wish  1.315192e+09          0\n",
       "6  2253006  5387041      -1     wish  1.314786e+09          0\n",
       "7  2253006  3011235       4  watched  1.313814e+09          0\n",
       "8  2253006  3443389       5  watched  1.313458e+09          0\n",
       "9  2253006  1292281      -1     wish  1.313389e+09          0"
      ]
     },
     "execution_count": 7,
     "metadata": {},
     "output_type": "execute_result"
    }
   ],
   "source": [
    "file_movie['item_type'] = 0\n",
    "file_music['item_type'] = 1\n",
    "file_movie.head(10)\n",
    "#file_music.head(10)"
   ]
  },
  {
   "cell_type": "code",
   "execution_count": 8,
   "metadata": {},
   "outputs": [
    {
     "name": "stdout",
     "output_type": "stream",
     "text": [
      "          user_id  item_id  rating      type     timestamp  item_type\n",
      "2898723   1000704  1291574      -1   watched  1.115110e+09          0\n",
      "2898722   1000704  1291575      -1   watched  1.115111e+09          0\n",
      "2522085   1000311  1292048      -1   watched  1.115473e+09          0\n",
      "2430165   1000001  1292226      -1   watched  1.115552e+09          0\n",
      "2436227   1000042  1292269      -1   watched  1.115612e+09          0\n",
      "...           ...      ...     ...       ...           ...        ...\n",
      "5173204   2293403  1292656       5   watched  1.323173e+09          0\n",
      "2517847  28865563  1394999       4  listened  1.323184e+09          1\n",
      "2517846  28865563  5962329       4  listened  1.323184e+09          1\n",
      "2517845  28865563  4214936      -1      wish  1.323184e+09          1\n",
      "2517844  28865563  4715941      -1      wish  1.323184e+09          1\n",
      "\n",
      "[7728399 rows x 6 columns]\n"
     ]
    }
   ],
   "source": [
    "file_mm = pd.concat([file_movie,file_music])\n",
    "file_mm = file_mm.sort_values(by = ['timestamp','item_id'], axis = 0)\n",
    "print(file_mm)"
   ]
  },
  {
   "cell_type": "code",
   "execution_count": 9,
   "metadata": {},
   "outputs": [
    {
     "name": "stdout",
     "output_type": "stream",
     "text": [
      "          user_id  item_id  rating      type     timestamp  item_type\n",
      "2898723   1000704  1291574      -1   watched  1.115110e+09          0\n",
      "2898722   1000704  1291575      -1   watched  1.115111e+09          0\n",
      "2522085   1000311  1292048      -1   watched  1.115473e+09          0\n",
      "2430165   1000001  1292226      -1   watched  1.115552e+09          0\n",
      "2436227   1000042  1292269      -1   watched  1.115612e+09          0\n",
      "...           ...      ...     ...       ...           ...        ...\n",
      "5173204   2293403  1292656       5   watched  1.323173e+09          0\n",
      "2517847  28865563  1394999       4  listened  1.323184e+09          1\n",
      "2517846  28865563  5962329       4  listened  1.323184e+09          1\n",
      "2517845  28865563  4214936      -1      wish  1.323184e+09          1\n",
      "2517844  28865563  4715941      -1      wish  1.323184e+09          1\n",
      "\n",
      "[7728399 rows x 6 columns]\n",
      "7728399\n",
      "          user_id  item_id  rating      type     timestamp  item_type\n",
      "0         1000704  1291574      -1   watched  1.115110e+09          0\n",
      "1         1000704  1291575      -1   watched  1.115111e+09          0\n",
      "2         1000311  1292048      -1   watched  1.115473e+09          0\n",
      "3         1000001  1292226      -1   watched  1.115552e+09          0\n",
      "4         1000042  1292269      -1   watched  1.115612e+09          0\n",
      "...           ...      ...     ...       ...           ...        ...\n",
      "7380107   2293403  1292656       5   watched  1.323173e+09          0\n",
      "7380108  28865563  1394999       4  listened  1.323184e+09          1\n",
      "7380109  28865563  5962329       4  listened  1.323184e+09          1\n",
      "7380110  28865563  4214936      -1      wish  1.323184e+09          1\n",
      "7380111  28865563  4715941      -1      wish  1.323184e+09          1\n",
      "\n",
      "[7380112 rows x 6 columns]\n",
      "7380112\n"
     ]
    }
   ],
   "source": [
    "inter_user = set(file_movie.user_id)&set(file_music.user_id)\n",
    "print(file_mm)\n",
    "print(len(file_mm))\n",
    "\n",
    "file_mm = file_mm[file_mm['user_id'].isin(inter_user)]\n",
    "file_mm = file_mm.reset_index()\n",
    "file_mm = file_mm.drop('index', axis = 1)\n",
    "print(file_mm)\n",
    "print(len(file_mm))"
   ]
  },
  {
   "cell_type": "code",
   "execution_count": 10,
   "metadata": {},
   "outputs": [
    {
     "name": "stdout",
     "output_type": "stream",
     "text": [
      "          user_id  item_id  rating      type     timestamp  item_type  session\n",
      "0         1000704  1291574      -1   watched  1.115110e+09          0        0\n",
      "1         1000704  1291575      -1   watched  1.115111e+09          0        0\n",
      "2         1000311  1292048      -1   watched  1.115473e+09          0        1\n",
      "3         1000001  1292226      -1   watched  1.115552e+09          0        2\n",
      "4         1000042  1292269      -1   watched  1.115612e+09          0        3\n",
      "...           ...      ...     ...       ...           ...        ...      ...\n",
      "7380107   2293403  1292656       5   watched  1.323173e+09          0  5852064\n",
      "7380108  28865563  1394999       4  listened  1.323184e+09          1  5852065\n",
      "7380109  28865563  5962329       4  listened  1.323184e+09          1  5852065\n",
      "7380110  28865563  4214936      -1      wish  1.323184e+09          1  5852065\n",
      "7380111  28865563  4715941      -1      wish  1.323184e+09          1  5852065\n",
      "\n",
      "[7380112 rows x 7 columns]\n"
     ]
    }
   ],
   "source": [
    "#session generation\n",
    "session = []\n",
    "s = 0\n",
    "for i in range(0, len(file_mm)):\n",
    "    if i == 0:\n",
    "        s = s \n",
    "    elif (file_mm.item_type[i] != file_mm.item_type[i-1]):\n",
    "        s += 1\n",
    "    elif ((file_mm.timestamp[i] - file_mm.timestamp[i-1]) > 3600 ):\n",
    "        s += 1\n",
    "    elif (file_mm.user_id[i] != file_mm.user_id[i-1]):\n",
    "        s += 1    \n",
    "    else:\n",
    "        s = s\n",
    "    session.append(s)\n",
    "file_mm['session'] = session\n",
    "print(file_mm)"
   ]
  },
  {
   "cell_type": "code",
   "execution_count": 11,
   "metadata": {},
   "outputs": [
    {
     "name": "stdout",
     "output_type": "stream",
     "text": [
      "session\n",
      "0           2\n",
      "1           1\n",
      "2           1\n",
      "3           2\n",
      "4           1\n",
      "           ..\n",
      "5852061     1\n",
      "5852062    27\n",
      "5852063     1\n",
      "5852064     1\n",
      "5852065     4\n",
      "Length: 5852066, dtype: int64\n"
     ]
    }
   ],
   "source": [
    "session_lengths = file_mm.groupby('session').size()\n",
    "print(session_lengths)"
   ]
  },
  {
   "cell_type": "code",
   "execution_count": 12,
   "metadata": {},
   "outputs": [],
   "source": [
    "#1 record\n",
    "file_mm = file_mm[np.in1d(file_mm.session, session_lengths[session_lengths >= 2].index)]"
   ]
  },
  {
   "cell_type": "code",
   "execution_count": 13,
   "metadata": {},
   "outputs": [],
   "source": [
    "#5record \n",
    "user_lengths = file_mm.groupby('user_id').size()"
   ]
  },
  {
   "cell_type": "code",
   "execution_count": 14,
   "metadata": {},
   "outputs": [
    {
     "name": "stdout",
     "output_type": "stream",
     "text": [
      "          user_id  item_id  rating     type     timestamp  item_type  session\n",
      "0         1000704  1291574      -1  watched  1.115110e+09          0        0\n",
      "1         1000704  1291575      -1  watched  1.115111e+09          0        0\n",
      "4         1000042  1292269      -1  watched  1.115612e+09          0        3\n",
      "5         1000042  1292271      -1  watched  1.115612e+09          0        3\n",
      "10        1000002  1292001      -1     wish  1.116503e+09          0        8\n",
      "...           ...      ...     ...      ...           ...        ...      ...\n",
      "7380101  43798013  1293265      -1  watched  1.323165e+09          0  5852062\n",
      "7380102  43798013  1291583      -1  watched  1.323165e+09          0  5852062\n",
      "7380103  43798013  1294991      -1  watched  1.323165e+09          0  5852062\n",
      "7380104  43798013  1307577      -1  watched  1.323165e+09          0  5852062\n",
      "7380105  43798013  1422067      -1  watched  1.323165e+09          0  5852062\n",
      "\n",
      "[2253529 rows x 7 columns]\n"
     ]
    }
   ],
   "source": [
    "file_mm = file_mm[np.in1d(file_mm.user_id, user_lengths[user_lengths >= 6].index)]\n",
    "print(file_mm)"
   ]
  },
  {
   "cell_type": "code",
   "execution_count": 15,
   "metadata": {},
   "outputs": [
    {
     "name": "stdout",
     "output_type": "stream",
     "text": [
      "          user_id  item_id  rating     type     timestamp  item_type  session\n",
      "0         1000704  1291574      -1  watched  1.115110e+09          0        0\n",
      "1         1000704  1291575      -1  watched  1.115111e+09          0        0\n",
      "4         1000042  1292269      -1  watched  1.115612e+09          0        3\n",
      "5         1000042  1292271      -1  watched  1.115612e+09          0        3\n",
      "10        1000002  1292001      -1     wish  1.116503e+09          0        8\n",
      "...           ...      ...     ...      ...           ...        ...      ...\n",
      "7380101  43798013  1293265      -1  watched  1.323165e+09          0  5852062\n",
      "7380102  43798013  1291583      -1  watched  1.323165e+09          0  5852062\n",
      "7380103  43798013  1294991      -1  watched  1.323165e+09          0  5852062\n",
      "7380104  43798013  1307577      -1  watched  1.323165e+09          0  5852062\n",
      "7380105  43798013  1422067      -1  watched  1.323165e+09          0  5852062\n",
      "\n",
      "[2253529 rows x 7 columns]\n"
     ]
    }
   ],
   "source": [
    "# 다시 생겼을 수 있으니\n",
    "session_lengths = file_mm.groupby('session').size()\n",
    "file_mm = file_mm[np.in1d(file_mm.session, session_lengths[session_lengths >= 2].index)]\n",
    "print(file_mm)"
   ]
  },
  {
   "cell_type": "code",
   "execution_count": 16,
   "metadata": {},
   "outputs": [
    {
     "name": "stderr",
     "output_type": "stream",
     "text": [
      "C:\\Users\\IWTL\\anaconda3\\envs\\env\\lib\\site-packages\\ipykernel_launcher.py:11: SettingWithCopyWarning: \n",
      "A value is trying to be set on a copy of a slice from a DataFrame\n",
      "\n",
      "See the caveats in the documentation: https://pandas.pydata.org/pandas-docs/stable/user_guide/indexing.html#returning-a-view-versus-a-copy\n",
      "  # This is added back by InteractiveShellApp.init_path()\n",
      "IOPub data rate exceeded.\n",
      "The notebook server will temporarily stop sending output\n",
      "to the client in order to avoid crashing it.\n",
      "To change this limit, set the config variable\n",
      "`--NotebookApp.iopub_data_rate_limit`.\n",
      "\n",
      "Current values:\n",
      "NotebookApp.iopub_data_rate_limit=1000000.0 (bytes/sec)\n",
      "NotebookApp.rate_limit_window=3.0 (secs)\n",
      "\n"
     ]
    }
   ],
   "source": [
    "file_mm = file_mm.reset_index().drop('index', axis = 1)\n",
    "c_temp = []\n",
    "c_idx = []\n",
    "#temp = []\n",
    "for i in range(0, len(file_mm)):\n",
    "    if i == 0:\n",
    "        c_temp.append(0)\n",
    "    elif (file_mm.user_id[i-1] == file_mm.user_id[i]) & (file_mm.item_type[i-1] == 0) & (file_mm.item_type[i] == 1):\n",
    "        c_temp.append(file_mm.session[i-1])\n",
    "        c_idx.append(i)\n",
    "        file_mm.session[i] = file_mm.session[i-1]####\n",
    "    else:\n",
    "        c_temp.append(0)\n",
    "\n",
    "print(c_temp)"
   ]
  },
  {
   "cell_type": "code",
   "execution_count": 17,
   "metadata": {},
   "outputs": [
    {
     "name": "stdout",
     "output_type": "stream",
     "text": [
      "23962\n",
      "    user_id  item_id  rating      type     timestamp  item_type  session\n",
      "0   1002396  1394626       2   watched  1.121625e+09          0     2727\n",
      "1   1002396  1301654       4   watched  1.121625e+09          0     2727\n",
      "2   1002396  1394620      -1  listened  1.121626e+09          1     2727\n",
      "3   1005493  1292063      -1   watched  1.121702e+09          0     3059\n",
      "4   1005493  1291559      -1      wish  1.121702e+09          0     3059\n",
      "5   1005493  1292001       4   watched  1.121702e+09          0     3059\n",
      "6   1005493  1394547      -1  listened  1.121702e+09          1     3059\n",
      "7   1004784  1292659       5   watched  1.121772e+09          0     3219\n",
      "8   1004784  1308777      -1      wish  1.121772e+09          0     3219\n",
      "9   1004784  1394849       5  listened  1.121772e+09          1     3219\n",
      "10  1002785  1291544       4   watched  1.121779e+09          0     3279\n",
      "11  1002785  1295038       4   watched  1.121779e+09          0     3279\n",
      "12  1002785  1296996       4   watched  1.121779e+09          0     3279\n",
      "13  1002785  1309055       4   watched  1.121779e+09          0     3279\n",
      "14  1002785  1292528       5   watched  1.121779e+09          0     3279\n",
      "15  1002785  1299062      -1      wish  1.121779e+09          0     3279\n",
      "16  1002785  1294285      -1   watched  1.121779e+09          0     3279\n",
      "17  1002785  1293346      -1      wish  1.121780e+09          0     3279\n",
      "18  1002785  1298112       4   watched  1.121780e+09          0     3279\n",
      "19  1002785  1293258      -1   watched  1.121780e+09          0     3279\n",
      "20  1002785  1299377      -1   watched  1.121780e+09          0     3279\n",
      "21  1002785  1301926       4   watched  1.121780e+09          0     3279\n",
      "22  1002785  1394860      -1  listened  1.121780e+09          1     3279\n",
      "23  1002448  1299680      -1   watched  1.121787e+09          0     3307\n",
      "24  1002448  1308819      -1   watched  1.121787e+09          0     3307\n",
      "25  1002448  1304585      -1   watched  1.121787e+09          0     3307\n",
      "26  1002448  1306133      -1   watched  1.121787e+09          0     3307\n",
      "27  1002448  1293825      -1   watched  1.121787e+09          0     3307\n",
      "28  1002448  1296339       4   watched  1.121787e+09          0     3307\n",
      "29  1002448  1292344      -1   watched  1.121787e+09          0     3307\n"
     ]
    }
   ],
   "source": [
    "# source\n",
    "session_1 = file_mm[file_mm['session'].isin(set(c_temp)-{0})]\n",
    "session_1 = session_1.reset_index()\n",
    "del session_1['index']\n",
    "print(len(session_1))\n",
    "print(session_1[0:30])"
   ]
  },
  {
   "cell_type": "code",
   "execution_count": 18,
   "metadata": {},
   "outputs": [
    {
     "name": "stdout",
     "output_type": "stream",
     "text": [
      "    user_id  item_id  rating      type     timestamp  item_type  session  \\\n",
      "0   1002396  1394626       2   watched  1.121625e+09          0     2727   \n",
      "1   1002396  1301654       4   watched  1.121625e+09          0     2727   \n",
      "2   1002396  1394620      -1  listened  1.121626e+09          1     2727   \n",
      "3   1005493  1292063      -1   watched  1.121702e+09          0     3059   \n",
      "4   1005493  1291559      -1      wish  1.121702e+09          0     3059   \n",
      "5   1005493  1292001       4   watched  1.121702e+09          0     3059   \n",
      "6   1005493  1394547      -1  listened  1.121702e+09          1     3059   \n",
      "7   1004784  1292659       5   watched  1.121772e+09          0     3219   \n",
      "8   1004784  1308777      -1      wish  1.121772e+09          0     3219   \n",
      "9   1004784  1394849       5  listened  1.121772e+09          1     3219   \n",
      "10  1002785  1291544       4   watched  1.121779e+09          0     3279   \n",
      "11  1002785  1295038       4   watched  1.121779e+09          0     3279   \n",
      "12  1002785  1296996       4   watched  1.121779e+09          0     3279   \n",
      "13  1002785  1309055       4   watched  1.121779e+09          0     3279   \n",
      "14  1002785  1292528       5   watched  1.121779e+09          0     3279   \n",
      "15  1002785  1299062      -1      wish  1.121779e+09          0     3279   \n",
      "16  1002785  1294285      -1   watched  1.121779e+09          0     3279   \n",
      "17  1002785  1293346      -1      wish  1.121780e+09          0     3279   \n",
      "18  1002785  1298112       4   watched  1.121780e+09          0     3279   \n",
      "19  1002785  1293258      -1   watched  1.121780e+09          0     3279   \n",
      "20  1002785  1299377      -1   watched  1.121780e+09          0     3279   \n",
      "21  1002785  1301926       4   watched  1.121780e+09          0     3279   \n",
      "22  1002785  1394860      -1  listened  1.121780e+09          1     3279   \n",
      "23  1002448  1299680      -1   watched  1.121787e+09          0     3307   \n",
      "24  1002448  1308819      -1   watched  1.121787e+09          0     3307   \n",
      "25  1002448  1304585      -1   watched  1.121787e+09          0     3307   \n",
      "26  1002448  1306133      -1   watched  1.121787e+09          0     3307   \n",
      "27  1002448  1293825      -1   watched  1.121787e+09          0     3307   \n",
      "28  1002448  1296339       4   watched  1.121787e+09          0     3307   \n",
      "29  1002448  1292344      -1   watched  1.121787e+09          0     3307   \n",
      "\n",
      "    cross_session  \n",
      "0               0  \n",
      "1               0  \n",
      "2               0  \n",
      "3               1  \n",
      "4               1  \n",
      "5               1  \n",
      "6               1  \n",
      "7               2  \n",
      "8               2  \n",
      "9               2  \n",
      "10              3  \n",
      "11              3  \n",
      "12              3  \n",
      "13              3  \n",
      "14              3  \n",
      "15              3  \n",
      "16              3  \n",
      "17              3  \n",
      "18              3  \n",
      "19              3  \n",
      "20              3  \n",
      "21              3  \n",
      "22              3  \n",
      "23              4  \n",
      "24              4  \n",
      "25              4  \n",
      "26              4  \n",
      "27              4  \n",
      "28              4  \n",
      "29              4  \n"
     ]
    }
   ],
   "source": [
    "cs = 0\n",
    "cross_session = []\n",
    "for i in range(0, len(session_1)):\n",
    "    if i == 0:\n",
    "        cs = cs\n",
    "    elif session_1.session[i] != session_1.session[i-1]:\n",
    "        cs += 1\n",
    "    else:\n",
    "        cs = cs\n",
    "    cross_session.append(cs)\n",
    "\n",
    "session_1['cross_session'] = cross_session\n",
    "print(session_1[0:30])"
   ]
  },
  {
   "cell_type": "code",
   "execution_count": 19,
   "metadata": {},
   "outputs": [
    {
     "name": "stdout",
     "output_type": "stream",
     "text": [
      "        user_id  item_id     timestamp  item_type  session  cross_session\n",
      "0       1002396  1394626  1.121625e+09          0     2727              0\n",
      "1       1002396  1301654  1.121625e+09          0     2727              0\n",
      "2       1002396  1394620  1.121626e+09          1     2727              0\n",
      "3       1005493  1292063  1.121702e+09          0     3059              1\n",
      "4       1005493  1291559  1.121702e+09          0     3059              1\n",
      "...         ...      ...           ...        ...      ...            ...\n",
      "23957  47746003  5966454  1.321530e+09          1  5850242           4608\n",
      "23958   4501680  4191644  1.322284e+09          0  5851079           4609\n",
      "23959   4501680  5993185  1.322285e+09          0  5851079           4609\n",
      "23960   4501680  4873490  1.322285e+09          0  5851079           4609\n",
      "23961   4501680  6870958  1.322285e+09          1  5851079           4609\n",
      "\n",
      "[23962 rows x 6 columns]\n"
     ]
    }
   ],
   "source": [
    "del session_1['rating']\n",
    "del session_1['type']\n",
    "print(session_1)"
   ]
  },
  {
   "cell_type": "code",
   "execution_count": 20,
   "metadata": {},
   "outputs": [],
   "source": [
    "## split train & test set\n",
    "tmax = session_1.timestamp.max()\n",
    "session_max_times = session_1.groupby('cross_session').timestamp.max()\n",
    "session_train = session_max_times[session_max_times < tmax-7.884e+6].index\n",
    "session_test = session_max_times[session_max_times >= tmax-7.884e+6].index\n",
    "\n",
    "### \n",
    "train = session_1[np.in1d(session_1.cross_session, session_train)]\n",
    "test = session_1[np.in1d(session_1.cross_session, session_test)]\n",
    "test = test[np.in1d(test.item_id, train.item_id)]"
   ]
  },
  {
   "cell_type": "code",
   "execution_count": 21,
   "metadata": {},
   "outputs": [],
   "source": [
    "# length 1\n",
    "c_session_lengths = session_1.groupby('cross_session').size()\n",
    "session_1 = session_1[np.in1d(session_1.cross_session, c_session_lengths[c_session_lengths >= 2].index)]"
   ]
  },
  {
   "cell_type": "code",
   "execution_count": 22,
   "metadata": {},
   "outputs": [
    {
     "name": "stdout",
     "output_type": "stream",
     "text": [
      "Full train set\n",
      "\tEvents: 23702\n",
      "\tCross_sessions: 4563\n",
      "\tItems: 8571\n",
      "Test set\n",
      "\tEvents: 99\n",
      "\tCross_sessions: 32\n",
      "\tItems: 86\n"
     ]
    }
   ],
   "source": [
    "# save processed data\n",
    "print('Full train set\\n\\tEvents: {}\\n\\tCross_sessions: {}\\n\\tItems: {}'.format(len(train), \n",
    "        train.cross_session.nunique(), train.item_id.nunique()))\n",
    "print('Test set\\n\\tEvents: {}\\n\\tCross_sessions: {}\\n\\tItems: {}'.format(len(test), \n",
    "        test.cross_session.nunique(), test.item_id.nunique()))\n",
    "train.to_csv(r'.\\data\\processed\\cs_train.txt', sep = '\\t', index = False)\n",
    "test.to_csv(r'.\\data\\processed\\cs_test.txt', sep = '\\t', index = False)"
   ]
  },
  {
   "cell_type": "code",
   "execution_count": 23,
   "metadata": {},
   "outputs": [
    {
     "name": "stdout",
     "output_type": "stream",
     "text": [
      "Train set\n",
      "\tEvents: 23250\n",
      "\tCross_sessions: 4471\n",
      "\tItems: 8296\n",
      "Validation set\n",
      "\tEvents: 137\n",
      "\tcross_sessions: 34\n",
      "\tItems: 127\n"
     ]
    }
   ],
   "source": [
    "# validation set\n",
    "tmax = train.timestamp.max()\n",
    "session_max_times = train.groupby('cross_session').timestamp.max()\n",
    "session_train = session_max_times[session_max_times < tmax-7.884e+6].index\n",
    "session_valid = session_max_times[session_max_times >= tmax-7.884e+6].index\n",
    "\n",
    "train_tr = train[np.in1d(train.cross_session, session_train)]\n",
    "valid = train[np.in1d(train.cross_session, session_valid)]\n",
    "valid = valid[np.in1d(valid.item_id, train_tr.item_id)]\n",
    "tslength = valid.groupby('cross_session').size()\n",
    "valid = valid[np.in1d(valid.cross_session, tslength[tslength>=2].index)]\n",
    "print('Train set\\n\\tEvents: {}\\n\\tCross_sessions: {}\\n\\tItems: {}'.format(len(train_tr), \n",
    "        train_tr.cross_session.nunique(), train_tr.item_id.nunique()))\n",
    "train_tr.to_csv(r'.\\data\\processed\\cs_train_tr.txt', sep='\\t', index=False)\n",
    "print('Validation set\\n\\tEvents: {}\\n\\tcross_sessions: {}\\n\\tItems: {}'.format(len(valid), \n",
    "        valid.cross_session.nunique(), valid.item_id.nunique()))\n",
    "valid.to_csv(r'.\\data\\processed\\cs_valid.txt', sep='\\t', index=False)"
   ]
  },
  {
   "cell_type": "code",
   "execution_count": null,
   "metadata": {},
   "outputs": [],
   "source": []
  }
 ],
 "metadata": {
  "kernelspec": {
   "display_name": "env",
   "language": "python",
   "name": "env"
  },
  "language_info": {
   "codemirror_mode": {
    "name": "ipython",
    "version": 3
   },
   "file_extension": ".py",
   "mimetype": "text/x-python",
   "name": "python",
   "nbconvert_exporter": "python",
   "pygments_lexer": "ipython3",
   "version": "3.6.10"
  }
 },
 "nbformat": 4,
 "nbformat_minor": 4
}
